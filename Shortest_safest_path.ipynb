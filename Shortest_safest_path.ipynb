{
  "nbformat": 4,
  "nbformat_minor": 0,
  "metadata": {
    "colab": {
      "name": "Shortest_safest_path.ipynb",
      "provenance": [],
      "collapsed_sections": []
    },
    "kernelspec": {
      "name": "python3",
      "display_name": "Python 3"
    }
  },
  "cells": [
    {
      "cell_type": "markdown",
      "metadata": {
        "id": "zXPG1M0yTk1O"
      },
      "source": [
        "Reference: https://towardsdatascience.com/finding-shortest-path-using-q-learning-algorithm-1c1f39e89505"
      ]
    },
    {
      "cell_type": "code",
      "metadata": {
        "id": "F7oW0FFTI8q4"
      },
      "source": [
        "import matplotlib.pyplot as plt\r\n",
        "import networkx as nx\r\n",
        "import numpy as np\r\n",
        "import random\r\n",
        "import pandas as pd\r\n",
        "%matplotlib inline"
      ],
      "execution_count": 1,
      "outputs": []
    },
    {
      "cell_type": "code",
      "metadata": {
        "id": "bcX5MLKUJiaq"
      },
      "source": [
        "def initialize_graph():\r\n",
        "  edges = [(0,4), (4,0), (0,3),(3,0),(1,2),(2,1),(1,4),(4,1),(1,8),(8,1),(1,9),(9,1),(2,3),(3,2),(2,6),(6,2),(1,5),(5,1),(2,5), (5,2),(5,6),(6,5),(7,8),(8,7),(7,5),(5,7),(8,9),(9,8),(8,10),(10,8),(9,10),(10,9)]\r\n",
        "  g = nx.Graph()\r\n",
        "  g.add_edges_from(edges)\r\n",
        "  pos = nx.spring_layout(g)\r\n",
        "  nx.draw_networkx_nodes(g,pos)\r\n",
        "  nx.draw_networkx_edges(g,pos)\r\n",
        "  nx.draw_networkx_labels(g,pos)\r\n",
        "  plt.show()\r\n",
        "  return g\r\n"
      ],
      "execution_count": 2,
      "outputs": []
    },
    {
      "cell_type": "code",
      "metadata": {
        "id": "xN76nbFoLY9k"
      },
      "source": [
        "# Intitialize Reward Matrix\r\n",
        "def init_reward_matrix():\r\n",
        "  r = np.matrix(np.zeros(shape = (11,11)))\r\n",
        "  for x in g[10]:\r\n",
        "    r[x,10] = 100\r\n",
        "  pd.DataFrame(r)\r\n",
        "  return r"
      ],
      "execution_count": 3,
      "outputs": []
    },
    {
      "cell_type": "code",
      "metadata": {
        "id": "nJVt2KC9NVI8"
      },
      "source": [
        "#Initialize Q Matrix\r\n",
        "def init_q_matrix():\r\n",
        "  q = np.matrix(np.zeros(shape = (11,11)))\r\n",
        "  q-=100\r\n",
        "  for node in g.nodes:\r\n",
        "    for x in g[node]:\r\n",
        "      q[node,x]=0\r\n",
        "      q[x,node]=0\r\n",
        "  pd.DataFrame(q)\r\n",
        "  return q\r\n",
        "  "
      ],
      "execution_count": 4,
      "outputs": []
    },
    {
      "cell_type": "code",
      "metadata": {
        "id": "N1-diqUZOEgG"
      },
      "source": [
        "def next_number(start,er):\r\n",
        "  random_value = random.uniform(0,1)\r\n",
        "  if random_value < er:\r\n",
        "    sample= g[start]\r\n",
        "  else:\r\n",
        "    sample = np.where(q[start,] == np.max(q[start]))[1]\r\n",
        "  next_node = int(np.random.choice(sample,1))\r\n",
        "  return next_node\r\n"
      ],
      "execution_count": 5,
      "outputs": []
    },
    {
      "cell_type": "code",
      "metadata": {
        "id": "YyhL0VZ8RBS5"
      },
      "source": [
        "def updateQ(node1,node2,lr,discount):\r\n",
        "  max_index = np.where(q[node2,]==np.max(q[node2,]))[1]\r\n",
        "  if max_index.shape[0]>1:\r\n",
        "    max_index = int(np.random.choice(max_index, size = 1))\r\n",
        "  else:\r\n",
        "    max_index = int(max_index)\r\n",
        "  max_value = q[node2,max_index]\r\n",
        "  q[node1,node2] = int((1-lr)*q[node1,node2]+lr*(r[node1,node2]+discount*max_value))\r\n",
        "  "
      ],
      "execution_count": 6,
      "outputs": []
    },
    {
      "cell_type": "code",
      "metadata": {
        "id": "1YRruKATSmEh"
      },
      "source": [
        "def learn(er,lr,discount):\r\n",
        "  for i in range(50000):\r\n",
        "    start = np.random.randint(0,11)\r\n",
        "    next_node = next_number(start,er)\r\n",
        "    updateQ(start,next_node,lr,discount)\r\n"
      ],
      "execution_count": 7,
      "outputs": []
    },
    {
      "cell_type": "code",
      "metadata": {
        "id": "MuuFgZrbTqTr"
      },
      "source": [
        "def shortest_path(begin, end):\r\n",
        "  path = [begin]\r\n",
        "  next_node = np.argmax(q[begin,])\r\n",
        "  path.append(next_node)\r\n",
        "  while next_node != end:\r\n",
        "    next_node = np.argmax(q[next_node,])\r\n",
        "    path.append(next_node)\r\n",
        "  return path"
      ],
      "execution_count": 8,
      "outputs": []
    },
    {
      "cell_type": "code",
      "metadata": {
        "colab": {
          "base_uri": "https://localhost:8080/",
          "height": 248
        },
        "id": "4zEr2Iq5CPPC",
        "outputId": "d65ec31e-3b5a-44cf-80d1-331c5f8751bf"
      },
      "source": [
        "g = initialize_graph()"
      ],
      "execution_count": 9,
      "outputs": [
        {
          "output_type": "display_data",
          "data": {
            "image/png": "[encoded data removed]",
            "text/plain": [
              "<Figure size 432x288 with 1 Axes>"
            ]
          },
          "metadata": {
            "tags": []
          }
        }
      ]
    },
    {
      "cell_type": "code",
      "metadata": {
        "id": "0OMOF1LyCU9j"
      },
      "source": [
        "r = init_reward_matrix()"
      ],
      "execution_count": 10,
      "outputs": []
    },
    {
      "cell_type": "code",
      "metadata": {
        "id": "VFPFwqYMCbe1"
      },
      "source": [
        "q = init_q_matrix()"
      ],
      "execution_count": 11,
      "outputs": []
    },
    {
      "cell_type": "code",
      "metadata": {
        "colab": {
          "base_uri": "https://localhost:8080/",
          "height": 390
        },
        "id": "vKN4EK4LCN24",
        "outputId": "770127df-a5db-4d0b-cbdc-49d1b0f6c2af"
      },
      "source": [
        "learn(0.5,0.8,0.8)\n",
        "pd.DataFrame(q)"
      ],
      "execution_count": 12,
      "outputs": [
        {
          "output_type": "execute_result",
          "data": {
            "text/html": [
              "<div>\n",
              "<style scoped>\n",
              "    .dataframe tbody tr th:only-of-type {\n",
              "        vertical-align: middle;\n",
              "    }\n",
              "\n",
              "    .dataframe tbody tr th {\n",
              "        vertical-align: top;\n",
              "    }\n",
              "\n",
              "    .dataframe thead th {\n",
              "        text-align: right;\n",
              "    }\n",
              "</style>\n",
              "<table border=\"1\" class=\"dataframe\">\n",
              "  <thead>\n",
              "    <tr style=\"text-align: right;\">\n",
              "      <th></th>\n",
              "      <th>0</th>\n",
              "      <th>1</th>\n",
              "      <th>2</th>\n",
              "      <th>3</th>\n",
              "      <th>4</th>\n",
              "      <th>5</th>\n",
              "      <th>6</th>\n",
              "      <th>7</th>\n",
              "      <th>8</th>\n",
              "      <th>9</th>\n",
              "      <th>10</th>\n",
              "    </tr>\n",
              "  </thead>\n",
              "  <tbody>\n",
              "    <tr>\n",
              "      <th>0</th>\n",
              "      <td>-100.0</td>\n",
              "      <td>-100.0</td>\n",
              "      <td>-100.0</td>\n",
              "      <td>110.0</td>\n",
              "      <td>138.0</td>\n",
              "      <td>-100.0</td>\n",
              "      <td>-100.0</td>\n",
              "      <td>-100.0</td>\n",
              "      <td>-100.0</td>\n",
              "      <td>-100.0</td>\n",
              "      <td>-100.0</td>\n",
              "    </tr>\n",
              "    <tr>\n",
              "      <th>1</th>\n",
              "      <td>-100.0</td>\n",
              "      <td>-100.0</td>\n",
              "      <td>138.0</td>\n",
              "      <td>-100.0</td>\n",
              "      <td>138.0</td>\n",
              "      <td>138.0</td>\n",
              "      <td>-100.0</td>\n",
              "      <td>-100.0</td>\n",
              "      <td>218.0</td>\n",
              "      <td>218.0</td>\n",
              "      <td>-100.0</td>\n",
              "    </tr>\n",
              "    <tr>\n",
              "      <th>2</th>\n",
              "      <td>-100.0</td>\n",
              "      <td>174.0</td>\n",
              "      <td>-100.0</td>\n",
              "      <td>110.0</td>\n",
              "      <td>-100.0</td>\n",
              "      <td>138.0</td>\n",
              "      <td>110.0</td>\n",
              "      <td>-100.0</td>\n",
              "      <td>-100.0</td>\n",
              "      <td>-100.0</td>\n",
              "      <td>-100.0</td>\n",
              "    </tr>\n",
              "    <tr>\n",
              "      <th>3</th>\n",
              "      <td>110.0</td>\n",
              "      <td>-100.0</td>\n",
              "      <td>138.0</td>\n",
              "      <td>-100.0</td>\n",
              "      <td>-100.0</td>\n",
              "      <td>-100.0</td>\n",
              "      <td>-100.0</td>\n",
              "      <td>-100.0</td>\n",
              "      <td>-100.0</td>\n",
              "      <td>-100.0</td>\n",
              "      <td>-100.0</td>\n",
              "    </tr>\n",
              "    <tr>\n",
              "      <th>4</th>\n",
              "      <td>110.0</td>\n",
              "      <td>174.0</td>\n",
              "      <td>-100.0</td>\n",
              "      <td>-100.0</td>\n",
              "      <td>-100.0</td>\n",
              "      <td>-100.0</td>\n",
              "      <td>-100.0</td>\n",
              "      <td>-100.0</td>\n",
              "      <td>-100.0</td>\n",
              "      <td>-100.0</td>\n",
              "      <td>-100.0</td>\n",
              "    </tr>\n",
              "    <tr>\n",
              "      <th>5</th>\n",
              "      <td>-100.0</td>\n",
              "      <td>174.0</td>\n",
              "      <td>138.0</td>\n",
              "      <td>-100.0</td>\n",
              "      <td>-100.0</td>\n",
              "      <td>-100.0</td>\n",
              "      <td>110.0</td>\n",
              "      <td>174.0</td>\n",
              "      <td>-100.0</td>\n",
              "      <td>-100.0</td>\n",
              "      <td>-100.0</td>\n",
              "    </tr>\n",
              "    <tr>\n",
              "      <th>6</th>\n",
              "      <td>-100.0</td>\n",
              "      <td>-100.0</td>\n",
              "      <td>138.0</td>\n",
              "      <td>-100.0</td>\n",
              "      <td>-100.0</td>\n",
              "      <td>138.0</td>\n",
              "      <td>-100.0</td>\n",
              "      <td>-100.0</td>\n",
              "      <td>-100.0</td>\n",
              "      <td>-100.0</td>\n",
              "      <td>-100.0</td>\n",
              "    </tr>\n",
              "    <tr>\n",
              "      <th>7</th>\n",
              "      <td>-100.0</td>\n",
              "      <td>-100.0</td>\n",
              "      <td>-100.0</td>\n",
              "      <td>-100.0</td>\n",
              "      <td>-100.0</td>\n",
              "      <td>138.0</td>\n",
              "      <td>-100.0</td>\n",
              "      <td>-100.0</td>\n",
              "      <td>218.0</td>\n",
              "      <td>-100.0</td>\n",
              "      <td>-100.0</td>\n",
              "    </tr>\n",
              "    <tr>\n",
              "      <th>8</th>\n",
              "      <td>-100.0</td>\n",
              "      <td>174.0</td>\n",
              "      <td>-100.0</td>\n",
              "      <td>-100.0</td>\n",
              "      <td>-100.0</td>\n",
              "      <td>-100.0</td>\n",
              "      <td>-100.0</td>\n",
              "      <td>174.0</td>\n",
              "      <td>-100.0</td>\n",
              "      <td>218.0</td>\n",
              "      <td>274.0</td>\n",
              "    </tr>\n",
              "    <tr>\n",
              "      <th>9</th>\n",
              "      <td>-100.0</td>\n",
              "      <td>174.0</td>\n",
              "      <td>-100.0</td>\n",
              "      <td>-100.0</td>\n",
              "      <td>-100.0</td>\n",
              "      <td>-100.0</td>\n",
              "      <td>-100.0</td>\n",
              "      <td>-100.0</td>\n",
              "      <td>218.0</td>\n",
              "      <td>-100.0</td>\n",
              "      <td>274.0</td>\n",
              "    </tr>\n",
              "    <tr>\n",
              "      <th>10</th>\n",
              "      <td>-100.0</td>\n",
              "      <td>-100.0</td>\n",
              "      <td>-100.0</td>\n",
              "      <td>-100.0</td>\n",
              "      <td>-100.0</td>\n",
              "      <td>-100.0</td>\n",
              "      <td>-100.0</td>\n",
              "      <td>-100.0</td>\n",
              "      <td>218.0</td>\n",
              "      <td>218.0</td>\n",
              "      <td>-100.0</td>\n",
              "    </tr>\n",
              "  </tbody>\n",
              "</table>\n",
              "</div>"
            ],
            "text/plain": [
              "       0      1      2      3      4      5      6      7      8      9      10\n",
              "0  -100.0 -100.0 -100.0  110.0  138.0 -100.0 -100.0 -100.0 -100.0 -100.0 -100.0\n",
              "1  -100.0 -100.0  138.0 -100.0  138.0  138.0 -100.0 -100.0  218.0  218.0 -100.0\n",
              "2  -100.0  174.0 -100.0  110.0 -100.0  138.0  110.0 -100.0 -100.0 -100.0 -100.0\n",
              "3   110.0 -100.0  138.0 -100.0 -100.0 -100.0 -100.0 -100.0 -100.0 -100.0 -100.0\n",
              "4   110.0  174.0 -100.0 -100.0 -100.0 -100.0 -100.0 -100.0 -100.0 -100.0 -100.0\n",
              "5  -100.0  174.0  138.0 -100.0 -100.0 -100.0  110.0  174.0 -100.0 -100.0 -100.0\n",
              "6  -100.0 -100.0  138.0 -100.0 -100.0  138.0 -100.0 -100.0 -100.0 -100.0 -100.0\n",
              "7  -100.0 -100.0 -100.0 -100.0 -100.0  138.0 -100.0 -100.0  218.0 -100.0 -100.0\n",
              "8  -100.0  174.0 -100.0 -100.0 -100.0 -100.0 -100.0  174.0 -100.0  218.0  274.0\n",
              "9  -100.0  174.0 -100.0 -100.0 -100.0 -100.0 -100.0 -100.0  218.0 -100.0  274.0\n",
              "10 -100.0 -100.0 -100.0 -100.0 -100.0 -100.0 -100.0 -100.0  218.0  218.0 -100.0"
            ]
          },
          "metadata": {
            "tags": []
          },
          "execution_count": 12
        }
      ]
    },
    {
      "cell_type": "code",
      "metadata": {
        "colab": {
          "base_uri": "https://localhost:8080/"
        },
        "id": "o9O8QtrGUafS",
        "outputId": "864dede2-8dc3-4d32-b83d-c6a4cf1600a7"
      },
      "source": [
        "shortest_path(0,10)"
      ],
      "execution_count": 13,
      "outputs": [
        {
          "output_type": "execute_result",
          "data": {
            "text/plain": [
              "[0, 4, 1, 8, 10]"
            ]
          },
          "metadata": {
            "tags": []
          },
          "execution_count": 13
        }
      ]
    },
    {
      "cell_type": "code",
      "metadata": {
        "colab": {
          "base_uri": "https://localhost:8080/"
        },
        "id": "uc1WPBd1T5Il",
        "outputId": "fbedeb14-ebf8-4a91-a9ff-d22ab7a28c98"
      },
      "source": [
        "shortest_path(2,10)"
      ],
      "execution_count": 14,
      "outputs": [
        {
          "output_type": "execute_result",
          "data": {
            "text/plain": [
              "[2, 1, 8, 10]"
            ]
          },
          "metadata": {
            "tags": []
          },
          "execution_count": 14
        }
      ]
    },
    {
      "cell_type": "code",
      "metadata": {
        "colab": {
          "base_uri": "https://localhost:8080/"
        },
        "id": "F1ZeLAmcgN6e",
        "outputId": "775f5b14-c900-4400-9449-927f83471dd7"
      },
      "source": [
        "shortest_path(3,10)"
      ],
      "execution_count": 15,
      "outputs": [
        {
          "output_type": "execute_result",
          "data": {
            "text/plain": [
              "[3, 2, 1, 8, 10]"
            ]
          },
          "metadata": {
            "tags": []
          },
          "execution_count": 15
        }
      ]
    },
    {
      "cell_type": "code",
      "metadata": {
        "colab": {
          "base_uri": "https://localhost:8080/"
        },
        "id": "nGRC9IpWgTcz",
        "outputId": "8a5d8546-083a-4ffb-9ef3-8d04a3b34c78"
      },
      "source": [
        "shortest_path(1, 10)"
      ],
      "execution_count": 16,
      "outputs": [
        {
          "output_type": "execute_result",
          "data": {
            "text/plain": [
              "[1, 8, 10]"
            ]
          },
          "metadata": {
            "tags": []
          },
          "execution_count": 16
        }
      ]
    },
    {
      "cell_type": "code",
      "metadata": {
        "colab": {
          "base_uri": "https://localhost:8080/"
        },
        "id": "rnGvTqJ9gaHV",
        "outputId": "5c0b1149-6efc-4b8c-e520-54ea101ecacf"
      },
      "source": [
        "shortest_path(4, 10)"
      ],
      "execution_count": 17,
      "outputs": [
        {
          "output_type": "execute_result",
          "data": {
            "text/plain": [
              "[4, 1, 8, 10]"
            ]
          },
          "metadata": {
            "tags": []
          },
          "execution_count": 17
        }
      ]
    },
    {
      "cell_type": "markdown",
      "metadata": {
        "id": "8HzM9BpcVmcb"
      },
      "source": [
        "#Update Matrix"
      ]
    },
    {
      "cell_type": "code",
      "metadata": {
        "id": "-zVU8GWGTpTh"
      },
      "source": [
        "def update_matrix(n, g, q):\n",
        "  for node in g.nodes:\n",
        "    for x in g[n]:\n",
        "      q[node,x]=-200\n",
        "      q[x,node]=-200\n",
        "  return g"
      ],
      "execution_count": 19,
      "outputs": []
    },
    {
      "cell_type": "code",
      "metadata": {
        "id": "Su88FnlKDjso"
      },
      "source": [
        "g = update_matrix(4, g, q)"
      ],
      "execution_count": 25,
      "outputs": []
    },
    {
      "cell_type": "code",
      "metadata": {
        "colab": {
          "base_uri": "https://localhost:8080/",
          "height": 390
        },
        "id": "7LFAlFYcUH0B",
        "outputId": "eaaf656c-6f21-42ab-8a7a-ec1b47084e55"
      },
      "source": [
        "pd.DataFrame(q)"
      ],
      "execution_count": 26,
      "outputs": [
        {
          "output_type": "execute_result",
          "data": {
            "text/html": [
              "<div>\n",
              "<style scoped>\n",
              "    .dataframe tbody tr th:only-of-type {\n",
              "        vertical-align: middle;\n",
              "    }\n",
              "\n",
              "    .dataframe tbody tr th {\n",
              "        vertical-align: top;\n",
              "    }\n",
              "\n",
              "    .dataframe thead th {\n",
              "        text-align: right;\n",
              "    }\n",
              "</style>\n",
              "<table border=\"1\" class=\"dataframe\">\n",
              "  <thead>\n",
              "    <tr style=\"text-align: right;\">\n",
              "      <th></th>\n",
              "      <th>0</th>\n",
              "      <th>1</th>\n",
              "      <th>2</th>\n",
              "      <th>3</th>\n",
              "      <th>4</th>\n",
              "      <th>5</th>\n",
              "      <th>6</th>\n",
              "      <th>7</th>\n",
              "      <th>8</th>\n",
              "      <th>9</th>\n",
              "      <th>10</th>\n",
              "    </tr>\n",
              "  </thead>\n",
              "  <tbody>\n",
              "    <tr>\n",
              "      <th>0</th>\n",
              "      <td>-200.0</td>\n",
              "      <td>-200.0</td>\n",
              "      <td>-200.0</td>\n",
              "      <td>-200.0</td>\n",
              "      <td>-200.0</td>\n",
              "      <td>-200.0</td>\n",
              "      <td>-200.0</td>\n",
              "      <td>-200.0</td>\n",
              "      <td>-200.0</td>\n",
              "      <td>-200.0</td>\n",
              "      <td>-200.0</td>\n",
              "    </tr>\n",
              "    <tr>\n",
              "      <th>1</th>\n",
              "      <td>-200.0</td>\n",
              "      <td>-200.0</td>\n",
              "      <td>-200.0</td>\n",
              "      <td>-200.0</td>\n",
              "      <td>-200.0</td>\n",
              "      <td>-200.0</td>\n",
              "      <td>-200.0</td>\n",
              "      <td>-200.0</td>\n",
              "      <td>-200.0</td>\n",
              "      <td>-200.0</td>\n",
              "      <td>-200.0</td>\n",
              "    </tr>\n",
              "    <tr>\n",
              "      <th>2</th>\n",
              "      <td>-200.0</td>\n",
              "      <td>-200.0</td>\n",
              "      <td>-200.0</td>\n",
              "      <td>-200.0</td>\n",
              "      <td>-200.0</td>\n",
              "      <td>-200.0</td>\n",
              "      <td>-200.0</td>\n",
              "      <td>-200.0</td>\n",
              "      <td>-200.0</td>\n",
              "      <td>-200.0</td>\n",
              "      <td>-200.0</td>\n",
              "    </tr>\n",
              "    <tr>\n",
              "      <th>3</th>\n",
              "      <td>-200.0</td>\n",
              "      <td>-200.0</td>\n",
              "      <td>-200.0</td>\n",
              "      <td>-100.0</td>\n",
              "      <td>-100.0</td>\n",
              "      <td>-100.0</td>\n",
              "      <td>-100.0</td>\n",
              "      <td>-100.0</td>\n",
              "      <td>-100.0</td>\n",
              "      <td>-100.0</td>\n",
              "      <td>-100.0</td>\n",
              "    </tr>\n",
              "    <tr>\n",
              "      <th>4</th>\n",
              "      <td>-200.0</td>\n",
              "      <td>-200.0</td>\n",
              "      <td>-200.0</td>\n",
              "      <td>-100.0</td>\n",
              "      <td>-100.0</td>\n",
              "      <td>-100.0</td>\n",
              "      <td>-100.0</td>\n",
              "      <td>-100.0</td>\n",
              "      <td>-100.0</td>\n",
              "      <td>-100.0</td>\n",
              "      <td>-100.0</td>\n",
              "    </tr>\n",
              "    <tr>\n",
              "      <th>5</th>\n",
              "      <td>-200.0</td>\n",
              "      <td>-200.0</td>\n",
              "      <td>-200.0</td>\n",
              "      <td>-100.0</td>\n",
              "      <td>-100.0</td>\n",
              "      <td>-100.0</td>\n",
              "      <td>110.0</td>\n",
              "      <td>174.0</td>\n",
              "      <td>-100.0</td>\n",
              "      <td>-100.0</td>\n",
              "      <td>-100.0</td>\n",
              "    </tr>\n",
              "    <tr>\n",
              "      <th>6</th>\n",
              "      <td>-200.0</td>\n",
              "      <td>-200.0</td>\n",
              "      <td>-200.0</td>\n",
              "      <td>-100.0</td>\n",
              "      <td>-100.0</td>\n",
              "      <td>138.0</td>\n",
              "      <td>-100.0</td>\n",
              "      <td>-100.0</td>\n",
              "      <td>-100.0</td>\n",
              "      <td>-100.0</td>\n",
              "      <td>-100.0</td>\n",
              "    </tr>\n",
              "    <tr>\n",
              "      <th>7</th>\n",
              "      <td>-200.0</td>\n",
              "      <td>-200.0</td>\n",
              "      <td>-200.0</td>\n",
              "      <td>-100.0</td>\n",
              "      <td>-100.0</td>\n",
              "      <td>138.0</td>\n",
              "      <td>-100.0</td>\n",
              "      <td>-100.0</td>\n",
              "      <td>218.0</td>\n",
              "      <td>-100.0</td>\n",
              "      <td>-100.0</td>\n",
              "    </tr>\n",
              "    <tr>\n",
              "      <th>8</th>\n",
              "      <td>-200.0</td>\n",
              "      <td>-200.0</td>\n",
              "      <td>-200.0</td>\n",
              "      <td>-100.0</td>\n",
              "      <td>-100.0</td>\n",
              "      <td>-100.0</td>\n",
              "      <td>-100.0</td>\n",
              "      <td>174.0</td>\n",
              "      <td>-100.0</td>\n",
              "      <td>218.0</td>\n",
              "      <td>274.0</td>\n",
              "    </tr>\n",
              "    <tr>\n",
              "      <th>9</th>\n",
              "      <td>-200.0</td>\n",
              "      <td>-200.0</td>\n",
              "      <td>-200.0</td>\n",
              "      <td>-100.0</td>\n",
              "      <td>-100.0</td>\n",
              "      <td>-100.0</td>\n",
              "      <td>-100.0</td>\n",
              "      <td>-100.0</td>\n",
              "      <td>218.0</td>\n",
              "      <td>-100.0</td>\n",
              "      <td>274.0</td>\n",
              "    </tr>\n",
              "    <tr>\n",
              "      <th>10</th>\n",
              "      <td>-200.0</td>\n",
              "      <td>-200.0</td>\n",
              "      <td>-200.0</td>\n",
              "      <td>-100.0</td>\n",
              "      <td>-100.0</td>\n",
              "      <td>-100.0</td>\n",
              "      <td>-100.0</td>\n",
              "      <td>-100.0</td>\n",
              "      <td>218.0</td>\n",
              "      <td>218.0</td>\n",
              "      <td>-100.0</td>\n",
              "    </tr>\n",
              "  </tbody>\n",
              "</table>\n",
              "</div>"
            ],
            "text/plain": [
              "       0      1      2      3      4      5      6      7      8      9      10\n",
              "0  -200.0 -200.0 -200.0 -200.0 -200.0 -200.0 -200.0 -200.0 -200.0 -200.0 -200.0\n",
              "1  -200.0 -200.0 -200.0 -200.0 -200.0 -200.0 -200.0 -200.0 -200.0 -200.0 -200.0\n",
              "2  -200.0 -200.0 -200.0 -200.0 -200.0 -200.0 -200.0 -200.0 -200.0 -200.0 -200.0\n",
              "3  -200.0 -200.0 -200.0 -100.0 -100.0 -100.0 -100.0 -100.0 -100.0 -100.0 -100.0\n",
              "4  -200.0 -200.0 -200.0 -100.0 -100.0 -100.0 -100.0 -100.0 -100.0 -100.0 -100.0\n",
              "5  -200.0 -200.0 -200.0 -100.0 -100.0 -100.0  110.0  174.0 -100.0 -100.0 -100.0\n",
              "6  -200.0 -200.0 -200.0 -100.0 -100.0  138.0 -100.0 -100.0 -100.0 -100.0 -100.0\n",
              "7  -200.0 -200.0 -200.0 -100.0 -100.0  138.0 -100.0 -100.0  218.0 -100.0 -100.0\n",
              "8  -200.0 -200.0 -200.0 -100.0 -100.0 -100.0 -100.0  174.0 -100.0  218.0  274.0\n",
              "9  -200.0 -200.0 -200.0 -100.0 -100.0 -100.0 -100.0 -100.0  218.0 -100.0  274.0\n",
              "10 -200.0 -200.0 -200.0 -100.0 -100.0 -100.0 -100.0 -100.0  218.0  218.0 -100.0"
            ]
          },
          "metadata": {
            "tags": []
          },
          "execution_count": 26
        }
      ]
    },
    {
      "cell_type": "code",
      "metadata": {
        "colab": {
          "base_uri": "https://localhost:8080/",
          "height": 319
        },
        "id": "e9iVGIzkfN3t",
        "outputId": "afd00ca7-4373-4d27-8469-2e6252d90127"
      },
      "source": [
        "nx.draw(g)\n",
        "plt.show()"
      ],
      "execution_count": 23,
      "outputs": [
        {
          "output_type": "display_data",
          "data": {
            "image/png": "[encoded data removed]",
            "text/plain": [
              "<Figure size 432x288 with 1 Axes>"
            ]
          },
          "metadata": {
            "tags": []
          }
        }
      ]
    },
    {
      "cell_type": "code",
      "metadata": {
        "colab": {
          "base_uri": "https://localhost:8080/"
        },
        "id": "N4KqI14XfrWE",
        "outputId": "02ce5efe-d337-45f6-ab1d-1bc5f75546b3"
      },
      "source": [
        "shortest_path(3, 10)"
      ],
      "execution_count": 24,
      "outputs": [
        {
          "output_type": "execute_result",
          "data": {
            "text/plain": [
              "[3, 1, 8, 10]"
            ]
          },
          "metadata": {
            "tags": []
          },
          "execution_count": 24
        }
      ]
    },
    {
      "cell_type": "code",
      "metadata": {
        "colab": {
          "base_uri": "https://localhost:8080/"
        },
        "id": "n7chjWWLFEE0",
        "outputId": "379674a3-790a-4a12-a110-e83755401a42"
      },
      "source": [
        "shortest_path(7, 10)"
      ],
      "execution_count": 30,
      "outputs": [
        {
          "output_type": "execute_result",
          "data": {
            "text/plain": [
              "[7, 8, 10]"
            ]
          },
          "metadata": {
            "tags": []
          },
          "execution_count": 30
        }
      ]
    }
  ]
}